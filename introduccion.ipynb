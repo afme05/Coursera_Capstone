{
    "cells": [
        {
            "cell_type": "markdown",
            "metadata": {
                "collapsed": true
            },
            "source": "# Proyecto Final Curso Capstone\n## Abrir un nuevo Restaurante en el Estado de M\u00e9xico"
        },
        {
            "cell_type": "markdown",
            "metadata": {},
            "source": "<font size = 4 > Cuando un emprendedor decide iniciar un nuevo negocio, uno de los principales problemas con los que se topa, es el decidir donde establecer la ubicaci\u00f3n del negocio, y este es un factor determinante en el \u00e9xito del mismo, ya que adem\u00e1s de la calidad del producto o servicio a ofrecer, es muy importante el lugar donde se establezca, el cual deber\u00eda ser un lugar visible, con buena afluencia de personas, de f\u00e1cil acceso, y que tenga poca competencia.    \n\nPor tal motivo, es de suma importancia antes de emprender un negocio identificar el lugar en donde establecerlo, y que cumpla con las caracter\u00edsticas definidas anteriormente; para ello necesitaremos saber entre otros datos:\n    \nLa densidad de poblaci\u00f3n del lugar, cuanto mayor sea la densidad de poblaci\u00f3n el n\u00famero de posibles clientes ser\u00e1 mayor y la afluencia de gente al negocio ser\u00e1 mejor.\n\nOtro factor importante a tener en cuenta al establecer un negocio es la densidad de carreteras, cuanto mayor sea el flujo de carreteras en el lugar elegido, se tendr\u00e1 un mejor acceso al negocio, adem\u00e1s de que se reducir\u00e1n los tiempos de traslado de los clientes.\n    \nY por \u00faltimo, se deber\u00e1 identificar los posibles competidores, es decir, los resturantes similares al nuestro por lo que se deber\u00e1 elegir el lugar en donde existan los menos posibles, o no existan restaurantes en la zona. \n    \nEn el presente proyecto nos enfocaremos en determinar la mejor ubicaci\u00f3n donde establecer un nuevo restaurante en el Estado de M\u00e9xico, y de esta forma, mejorar las expectativas de \u00e9xito.\n</font>"
        },
        {
            "cell_type": "code",
            "execution_count": null,
            "metadata": {},
            "outputs": [],
            "source": ""
        }
    ],
    "metadata": {
        "kernelspec": {
            "display_name": "Python 3.8",
            "language": "python",
            "name": "python3"
        },
        "language_info": {
            "codemirror_mode": {
                "name": "ipython",
                "version": 3
            },
            "file_extension": ".py",
            "mimetype": "text/x-python",
            "name": "python",
            "nbconvert_exporter": "python",
            "pygments_lexer": "ipython3",
            "version": "3.8.10"
        }
    },
    "nbformat": 4,
    "nbformat_minor": 1
}