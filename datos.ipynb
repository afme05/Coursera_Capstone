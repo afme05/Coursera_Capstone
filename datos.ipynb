{
    "cells": [
        {
            "cell_type": "markdown",
            "metadata": {
                "collapsed": true
            },
            "source": "# Proyecto Final Curso Capstone\n## Abrir un nuevo Restaurante en el Estado de M\u00e9xico"
        },
        {
            "cell_type": "markdown",
            "metadata": {},
            "source": "## Secci\u00f3n de datos"
        },
        {
            "cell_type": "markdown",
            "metadata": {},
            "source": "Para obtener la informaci\u00f3n requerida, de densidad de poblaci\u00f3n y sus caracter\u00edsticas, haremos uso de los datos que proporciona el Instituto Nacional de Estad\u00edstica Geograf\u00eda e Inform\u00e1tica (INEGI), el cual recaba la informaci\u00f3n de todos los habitantes de la Rep\u00fablica Mexicana, con sus censos de poblaci\u00f3n y vivienda, en espec\u00edfico utilizaremos las bases de datos del censo realizado en el a\u00f1o 2020."
        },
        {
            "cell_type": "markdown",
            "metadata": {},
            "source": "Mediante los datos proporcionados por el INEGI obtendremos datos como la densidad de poblaci\u00f3n, la localidad, su latitud y longitud, el g\u00e9nero, la edad, si es econ\u00f3micamente activo, etc.\n\nDe esta manera podremos determinar el n\u00famero de personas en cada localidad, as\u00ed como la edad, el g\u00e9nero y si se encuentran trabajando, datos importantes para un adecuado an\u00e1lisis y determinar a los posibles clientes.\n\nPor medio de Foursquare obtendremos la ubicaci\u00f3n de los restaurantes ya establecidos en la zona, as\u00ed como el tipo de restaurantes, sus horarios de operaci\u00f3n y hasta los comentarios que tengan para determinar el nivel de competencia, adem\u00e1s se podr\u00e1 visualizar la afluencia de carreteras en el lugar.\n\nUna forma de determinar el mejor lugar es calculando un \u00edndice integral con el siguiente supuesto:\n\u00cdndice integral = \u00edndice de densidad de poblaci\u00f3n x0.4 + \u00edndice de densidad de carreteras x0.3 + \u00edndice de productos competidores similares x0.1."
        },
        {
            "cell_type": "markdown",
            "metadata": {},
            "source": "<font size = 3>\nEjemplo de los datos a utilizar en el an\u00e1lisis:\n</font>   "
        },
        {
            "cell_type": "code",
            "execution_count": 7,
            "metadata": {},
            "outputs": [
                {
                    "data": {
                        "text/html": "<div>\n<style scoped>\n    .dataframe tbody tr th:only-of-type {\n        vertical-align: middle;\n    }\n\n    .dataframe tbody tr th {\n        vertical-align: top;\n    }\n\n    .dataframe thead th {\n        text-align: right;\n    }\n</style>\n<table border=\"1\" class=\"dataframe\">\n  <thead>\n    <tr style=\"text-align: right;\">\n      <th></th>\n      <th>ENTIDAD</th>\n      <th>NOM_ENT</th>\n      <th>MUN</th>\n      <th>NOM_MUN</th>\n      <th>LOC</th>\n      <th>NOM_LOC</th>\n      <th>LONGITUD</th>\n      <th>LATITUD</th>\n      <th>POBTOT</th>\n      <th>POBFEM</th>\n      <th>POBMAS</th>\n    </tr>\n  </thead>\n  <tbody>\n    <tr>\n      <th>0</th>\n      <td>15</td>\n      <td>M\u00e9xico</td>\n      <td>1</td>\n      <td>Acambay de Ru\u00edz Casta\u00f1eda</td>\n      <td>1</td>\n      <td>Villa de Acambay de Ru\u00edz Casta\u00f1eda</td>\n      <td>99\u00b050'38.515\" W</td>\n      <td>19\u00b057'22.423\" N</td>\n      <td>5988</td>\n      <td>3148</td>\n      <td>2840</td>\n    </tr>\n    <tr>\n      <th>1</th>\n      <td>15</td>\n      <td>M\u00e9xico</td>\n      <td>1</td>\n      <td>Acambay de Ru\u00edz Casta\u00f1eda</td>\n      <td>2</td>\n      <td>Agostadero (San Jos\u00e9 Agostadero)</td>\n      <td>100\u00b000'09.008\" W</td>\n      <td>20\u00b002'25.109\" N</td>\n      <td>587</td>\n      <td>302</td>\n      <td>285</td>\n    </tr>\n    <tr>\n      <th>2</th>\n      <td>15</td>\n      <td>M\u00e9xico</td>\n      <td>1</td>\n      <td>Acambay de Ru\u00edz Casta\u00f1eda</td>\n      <td>3</td>\n      <td>Agua Limpia</td>\n      <td>99\u00b049'12.331\" W</td>\n      <td>19\u00b054'44.665\" N</td>\n      <td>272</td>\n      <td>131</td>\n      <td>141</td>\n    </tr>\n    <tr>\n      <th>3</th>\n      <td>15</td>\n      <td>M\u00e9xico</td>\n      <td>1</td>\n      <td>Acambay de Ru\u00edz Casta\u00f1eda</td>\n      <td>4</td>\n      <td>Las Arenas (San Agust\u00edn)</td>\n      <td>99\u00b043'43.634\" W</td>\n      <td>19\u00b059'17.820\" N</td>\n      <td>902</td>\n      <td>439</td>\n      <td>463</td>\n    </tr>\n    <tr>\n      <th>4</th>\n      <td>15</td>\n      <td>M\u00e9xico</td>\n      <td>1</td>\n      <td>Acambay de Ru\u00edz Casta\u00f1eda</td>\n      <td>6</td>\n      <td>Boshi Chiquito</td>\n      <td>99\u00b049'02.000\" W</td>\n      <td>19\u00b055'37.000\" N</td>\n      <td>415</td>\n      <td>218</td>\n      <td>197</td>\n    </tr>\n    <tr>\n      <th>5</th>\n      <td>15</td>\n      <td>M\u00e9xico</td>\n      <td>1</td>\n      <td>Acambay de Ru\u00edz Casta\u00f1eda</td>\n      <td>7</td>\n      <td>Boshi Grande</td>\n      <td>99\u00b048'42.236\" W</td>\n      <td>19\u00b057'16.901\" N</td>\n      <td>172</td>\n      <td>91</td>\n      <td>81</td>\n    </tr>\n    <tr>\n      <th>6</th>\n      <td>15</td>\n      <td>M\u00e9xico</td>\n      <td>1</td>\n      <td>Acambay de Ru\u00edz Casta\u00f1eda</td>\n      <td>8</td>\n      <td>Botidi</td>\n      <td>99\u00b050'31.779\" W</td>\n      <td>19\u00b057'59.708\" N</td>\n      <td>501</td>\n      <td>269</td>\n      <td>232</td>\n    </tr>\n    <tr>\n      <th>7</th>\n      <td>15</td>\n      <td>M\u00e9xico</td>\n      <td>1</td>\n      <td>Acambay de Ru\u00edz Casta\u00f1eda</td>\n      <td>9</td>\n      <td>Bovini</td>\n      <td>99\u00b048'35.024\" W</td>\n      <td>20\u00b000'16.179\" N</td>\n      <td>490</td>\n      <td>256</td>\n      <td>234</td>\n    </tr>\n    <tr>\n      <th>8</th>\n      <td>15</td>\n      <td>M\u00e9xico</td>\n      <td>1</td>\n      <td>Acambay de Ru\u00edz Casta\u00f1eda</td>\n      <td>10</td>\n      <td>Boshindo</td>\n      <td>99\u00b050'32.620\" W</td>\n      <td>19\u00b055'10.872\" N</td>\n      <td>1315</td>\n      <td>716</td>\n      <td>599</td>\n    </tr>\n    <tr>\n      <th>9</th>\n      <td>15</td>\n      <td>M\u00e9xico</td>\n      <td>1</td>\n      <td>Acambay de Ru\u00edz Casta\u00f1eda</td>\n      <td>11</td>\n      <td>La Caridad</td>\n      <td>99\u00b050'13.000\" W</td>\n      <td>19\u00b056'52.000\" N</td>\n      <td>1463</td>\n      <td>756</td>\n      <td>707</td>\n    </tr>\n    <tr>\n      <th>10</th>\n      <td>15</td>\n      <td>M\u00e9xico</td>\n      <td>1</td>\n      <td>Acambay de Ru\u00edz Casta\u00f1eda</td>\n      <td>12</td>\n      <td>Conejeras</td>\n      <td>99\u00b057'42.321\" W</td>\n      <td>20\u00b000'46.538\" N</td>\n      <td>1095</td>\n      <td>598</td>\n      <td>497</td>\n    </tr>\n    <tr>\n      <th>11</th>\n      <td>15</td>\n      <td>M\u00e9xico</td>\n      <td>1</td>\n      <td>Acambay de Ru\u00edz Casta\u00f1eda</td>\n      <td>13</td>\n      <td>Chanteje</td>\n      <td>99\u00b049'32.172\" W</td>\n      <td>19\u00b053'19.278\" N</td>\n      <td>228</td>\n      <td>119</td>\n      <td>109</td>\n    </tr>\n    <tr>\n      <th>12</th>\n      <td>15</td>\n      <td>M\u00e9xico</td>\n      <td>1</td>\n      <td>Acambay de Ru\u00edz Casta\u00f1eda</td>\n      <td>14</td>\n      <td>Los Charcos</td>\n      <td>100\u00b001'15.039\" W</td>\n      <td>20\u00b001'53.456\" N</td>\n      <td>221</td>\n      <td>118</td>\n      <td>103</td>\n    </tr>\n    <tr>\n      <th>13</th>\n      <td>15</td>\n      <td>M\u00e9xico</td>\n      <td>1</td>\n      <td>Acambay de Ru\u00edz Casta\u00f1eda</td>\n      <td>15</td>\n      <td>Dateje</td>\n      <td>99\u00b049'59.806\" W</td>\n      <td>19\u00b059'41.005\" N</td>\n      <td>445</td>\n      <td>223</td>\n      <td>222</td>\n    </tr>\n    <tr>\n      <th>14</th>\n      <td>15</td>\n      <td>M\u00e9xico</td>\n      <td>1</td>\n      <td>Acambay de Ru\u00edz Casta\u00f1eda</td>\n      <td>16</td>\n      <td>Deti\u00f1a (San Antonio Deti\u00f1a)</td>\n      <td>99\u00b053'05.920\" W</td>\n      <td>19\u00b058'15.251\" N</td>\n      <td>2230</td>\n      <td>1140</td>\n      <td>1090</td>\n    </tr>\n    <tr>\n      <th>15</th>\n      <td>15</td>\n      <td>M\u00e9xico</td>\n      <td>1</td>\n      <td>Acambay de Ru\u00edz Casta\u00f1eda</td>\n      <td>17</td>\n      <td>Dongu (Dongu Centro)</td>\n      <td>99\u00b052'05.477\" W</td>\n      <td>19\u00b058'18.098\" N</td>\n      <td>645</td>\n      <td>322</td>\n      <td>323</td>\n    </tr>\n    <tr>\n      <th>16</th>\n      <td>15</td>\n      <td>M\u00e9xico</td>\n      <td>1</td>\n      <td>Acambay de Ru\u00edz Casta\u00f1eda</td>\n      <td>19</td>\n      <td>Endeje</td>\n      <td>99\u00b050'11.131\" W</td>\n      <td>19\u00b057'38.710\" N</td>\n      <td>831</td>\n      <td>437</td>\n      <td>394</td>\n    </tr>\n  </tbody>\n</table>\n</div>",
                        "text/plain": "    ENTIDAD NOM_ENT  MUN                    NOM_MUN  LOC  \\\n0        15  M\u00e9xico    1  Acambay de Ru\u00edz Casta\u00f1eda    1   \n1        15  M\u00e9xico    1  Acambay de Ru\u00edz Casta\u00f1eda    2   \n2        15  M\u00e9xico    1  Acambay de Ru\u00edz Casta\u00f1eda    3   \n3        15  M\u00e9xico    1  Acambay de Ru\u00edz Casta\u00f1eda    4   \n4        15  M\u00e9xico    1  Acambay de Ru\u00edz Casta\u00f1eda    6   \n5        15  M\u00e9xico    1  Acambay de Ru\u00edz Casta\u00f1eda    7   \n6        15  M\u00e9xico    1  Acambay de Ru\u00edz Casta\u00f1eda    8   \n7        15  M\u00e9xico    1  Acambay de Ru\u00edz Casta\u00f1eda    9   \n8        15  M\u00e9xico    1  Acambay de Ru\u00edz Casta\u00f1eda   10   \n9        15  M\u00e9xico    1  Acambay de Ru\u00edz Casta\u00f1eda   11   \n10       15  M\u00e9xico    1  Acambay de Ru\u00edz Casta\u00f1eda   12   \n11       15  M\u00e9xico    1  Acambay de Ru\u00edz Casta\u00f1eda   13   \n12       15  M\u00e9xico    1  Acambay de Ru\u00edz Casta\u00f1eda   14   \n13       15  M\u00e9xico    1  Acambay de Ru\u00edz Casta\u00f1eda   15   \n14       15  M\u00e9xico    1  Acambay de Ru\u00edz Casta\u00f1eda   16   \n15       15  M\u00e9xico    1  Acambay de Ru\u00edz Casta\u00f1eda   17   \n16       15  M\u00e9xico    1  Acambay de Ru\u00edz Casta\u00f1eda   19   \n\n                               NOM_LOC          LONGITUD          LATITUD  \\\n0   Villa de Acambay de Ru\u00edz Casta\u00f1eda   99\u00b050'38.515\" W  19\u00b057'22.423\" N   \n1     Agostadero (San Jos\u00e9 Agostadero)  100\u00b000'09.008\" W  20\u00b002'25.109\" N   \n2                          Agua Limpia   99\u00b049'12.331\" W  19\u00b054'44.665\" N   \n3             Las Arenas (San Agust\u00edn)   99\u00b043'43.634\" W  19\u00b059'17.820\" N   \n4                       Boshi Chiquito   99\u00b049'02.000\" W  19\u00b055'37.000\" N   \n5                         Boshi Grande   99\u00b048'42.236\" W  19\u00b057'16.901\" N   \n6                               Botidi   99\u00b050'31.779\" W  19\u00b057'59.708\" N   \n7                               Bovini   99\u00b048'35.024\" W  20\u00b000'16.179\" N   \n8                             Boshindo   99\u00b050'32.620\" W  19\u00b055'10.872\" N   \n9                           La Caridad   99\u00b050'13.000\" W  19\u00b056'52.000\" N   \n10                           Conejeras   99\u00b057'42.321\" W  20\u00b000'46.538\" N   \n11                            Chanteje   99\u00b049'32.172\" W  19\u00b053'19.278\" N   \n12                         Los Charcos  100\u00b001'15.039\" W  20\u00b001'53.456\" N   \n13                              Dateje   99\u00b049'59.806\" W  19\u00b059'41.005\" N   \n14         Deti\u00f1a (San Antonio Deti\u00f1a)   99\u00b053'05.920\" W  19\u00b058'15.251\" N   \n15                Dongu (Dongu Centro)   99\u00b052'05.477\" W  19\u00b058'18.098\" N   \n16                              Endeje   99\u00b050'11.131\" W  19\u00b057'38.710\" N   \n\n    POBTOT  POBFEM  POBMAS  \n0     5988    3148    2840  \n1      587     302     285  \n2      272     131     141  \n3      902     439     463  \n4      415     218     197  \n5      172      91      81  \n6      501     269     232  \n7      490     256     234  \n8     1315     716     599  \n9     1463     756     707  \n10    1095     598     497  \n11     228     119     109  \n12     221     118     103  \n13     445     223     222  \n14    2230    1140    1090  \n15     645     322     323  \n16     831     437     394  "
                    },
                    "execution_count": 7,
                    "metadata": {},
                    "output_type": "execute_result"
                }
            ],
            "source": "# The code was removed by Watson Studio for sharing."
        },
        {
            "cell_type": "code",
            "execution_count": null,
            "metadata": {},
            "outputs": [],
            "source": ""
        }
    ],
    "metadata": {
        "kernelspec": {
            "display_name": "Python 3.8",
            "language": "python",
            "name": "python3"
        },
        "language_info": {
            "codemirror_mode": {
                "name": "ipython",
                "version": 3
            },
            "file_extension": ".py",
            "mimetype": "text/x-python",
            "name": "python",
            "nbconvert_exporter": "python",
            "pygments_lexer": "ipython3",
            "version": "3.8.10"
        }
    },
    "nbformat": 4,
    "nbformat_minor": 1
}